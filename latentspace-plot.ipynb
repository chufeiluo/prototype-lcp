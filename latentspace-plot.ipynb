{
 "cells": [
  {
   "cell_type": "code",
   "execution_count": 1,
   "id": "5213ba2b",
   "metadata": {},
   "outputs": [],
   "source": [
    "import os\n",
    "os.environ['CUDA_VISIBLE_DEVICES'] = '0'\n",
    "os.environ['CUDA_PATH'] = '/usr/local/cuda-10.0'\n",
    "\n",
    "import transformers\n",
    "import datasets\n",
    "\n",
    "import torch\n",
    "from pathlib import Path\n",
    "from datasets import load_dataset\n",
    "from transformers import (AutoTokenizer, AutoModelForSequenceClassification, \n",
    "                          TrainingArguments, Trainer)\n",
    "\n",
    "import numpy as np\n",
    "import re\n",
    "import pandas as pd\n",
    "from tqdm.notebook import tqdm"
   ]
  },
  {
   "cell_type": "code",
   "execution_count": 2,
   "id": "e7b1b620",
   "metadata": {},
   "outputs": [],
   "source": [
    "form = 'red2'\n",
    "label_len = 20"
   ]
  },
  {
   "cell_type": "code",
   "execution_count": 3,
   "id": "46d3c16d",
   "metadata": {},
   "outputs": [
    {
     "name": "stderr",
     "output_type": "stream",
     "text": [
      "Using custom data configuration default-d9ecd716484d21f3\n"
     ]
    },
    {
     "name": "stdout",
     "output_type": "stream",
     "text": [
      "Downloading and preparing dataset json/default to /home/14cfl/.cache/huggingface/datasets/json/default-d9ecd716484d21f3/0.0.0/ac0ca5f5289a6cf108e706efcf040422dbbfa8e658dee6a819f20d76bb84d26b...\n"
     ]
    },
    {
     "data": {
      "application/vnd.jupyter.widget-view+json": {
       "model_id": "3e46424642834568a5e398446b88ae80",
       "version_major": 2,
       "version_minor": 0
      },
      "text/plain": [
       "Downloading data files:   0%|          | 0/1 [00:00<?, ?it/s]"
      ]
     },
     "metadata": {},
     "output_type": "display_data"
    },
    {
     "data": {
      "application/vnd.jupyter.widget-view+json": {
       "model_id": "556a0d63b00446ee8fe9345e83b3e7d3",
       "version_major": 2,
       "version_minor": 0
      },
      "text/plain": [
       "Extracting data files:   0%|          | 0/1 [00:00<?, ?it/s]"
      ]
     },
     "metadata": {},
     "output_type": "display_data"
    },
    {
     "name": "stderr",
     "output_type": "stream",
     "text": [
      "Using custom data configuration default-d9ecd716484d21f3\n"
     ]
    },
    {
     "name": "stdout",
     "output_type": "stream",
     "text": [
      "Dataset json downloaded and prepared to /home/14cfl/.cache/huggingface/datasets/json/default-d9ecd716484d21f3/0.0.0/ac0ca5f5289a6cf108e706efcf040422dbbfa8e658dee6a819f20d76bb84d26b. Subsequent calls will reuse this data.\n"
     ]
    },
    {
     "name": "stderr",
     "output_type": "stream",
     "text": [
      "Reusing dataset json (/home/14cfl/.cache/huggingface/datasets/json/default-d9ecd716484d21f3/0.0.0/ac0ca5f5289a6cf108e706efcf040422dbbfa8e658dee6a819f20d76bb84d26b)\n",
      "Using custom data configuration default-f0e098c8b2d88652\n"
     ]
    },
    {
     "name": "stdout",
     "output_type": "stream",
     "text": [
      "Downloading and preparing dataset json/default to /home/14cfl/.cache/huggingface/datasets/json/default-f0e098c8b2d88652/0.0.0/ac0ca5f5289a6cf108e706efcf040422dbbfa8e658dee6a819f20d76bb84d26b...\n"
     ]
    },
    {
     "data": {
      "application/vnd.jupyter.widget-view+json": {
       "model_id": "75c47e9c3a144ee18109c60a0565719d",
       "version_major": 2,
       "version_minor": 0
      },
      "text/plain": [
       "Downloading data files:   0%|          | 0/1 [00:00<?, ?it/s]"
      ]
     },
     "metadata": {},
     "output_type": "display_data"
    },
    {
     "data": {
      "application/vnd.jupyter.widget-view+json": {
       "model_id": "d3bd68fb0abd4b77ab5114ce63c97329",
       "version_major": 2,
       "version_minor": 0
      },
      "text/plain": [
       "Extracting data files:   0%|          | 0/1 [00:00<?, ?it/s]"
      ]
     },
     "metadata": {},
     "output_type": "display_data"
    },
    {
     "name": "stdout",
     "output_type": "stream",
     "text": [
      "Dataset json downloaded and prepared to /home/14cfl/.cache/huggingface/datasets/json/default-f0e098c8b2d88652/0.0.0/ac0ca5f5289a6cf108e706efcf040422dbbfa8e658dee6a819f20d76bb84d26b. Subsequent calls will reuse this data.\n"
     ]
    },
    {
     "name": "stderr",
     "output_type": "stream",
     "text": [
      "Using custom data configuration default-1a49b4eb58afb15c\n"
     ]
    },
    {
     "name": "stdout",
     "output_type": "stream",
     "text": [
      "Downloading and preparing dataset json/default to /home/14cfl/.cache/huggingface/datasets/json/default-1a49b4eb58afb15c/0.0.0/ac0ca5f5289a6cf108e706efcf040422dbbfa8e658dee6a819f20d76bb84d26b...\n"
     ]
    },
    {
     "data": {
      "application/vnd.jupyter.widget-view+json": {
       "model_id": "d8b8595c388e4a87815c9e16626c1fc7",
       "version_major": 2,
       "version_minor": 0
      },
      "text/plain": [
       "Downloading data files:   0%|          | 0/1 [00:00<?, ?it/s]"
      ]
     },
     "metadata": {},
     "output_type": "display_data"
    },
    {
     "data": {
      "application/vnd.jupyter.widget-view+json": {
       "model_id": "b2a82288f81a4be092cf35f2da0d6c12",
       "version_major": 2,
       "version_minor": 0
      },
      "text/plain": [
       "Extracting data files:   0%|          | 0/1 [00:00<?, ?it/s]"
      ]
     },
     "metadata": {},
     "output_type": "display_data"
    },
    {
     "name": "stdout",
     "output_type": "stream",
     "text": [
      "Dataset json downloaded and prepared to /home/14cfl/.cache/huggingface/datasets/json/default-1a49b4eb58afb15c/0.0.0/ac0ca5f5289a6cf108e706efcf040422dbbfa8e658dee6a819f20d76bb84d26b. Subsequent calls will reuse this data.\n"
     ]
    }
   ],
   "source": [
    "test_enc_1 = load_dataset('json', data_files=f'data/{form}/testenc-{label_len}.json', split='train[:50%]')\n",
    "test_enc_2 = load_dataset('json', data_files=f'data/{form}/testenc-{label_len}.json', split='train[50%:]')\n",
    "val_enc = load_dataset('json', data_files=f'data/{form}/valenc-{label_len}.json', split='train')\n",
    "train_enc = load_dataset('json', data_files=f'data/{form}/train-citationcleaned-{label_len}.json', split='train')"
   ]
  },
  {
   "cell_type": "code",
   "execution_count": 5,
   "id": "3845847c",
   "metadata": {},
   "outputs": [
    {
     "name": "stdout",
     "output_type": "stream",
     "text": [
      "['files', 'labels', 'input', 'original', 'codes']\n"
     ]
    },
    {
     "data": {
      "application/vnd.jupyter.widget-view+json": {
       "model_id": "8b63d2e92f594ec8ad8b62cf0d322f3d",
       "version_major": 2,
       "version_minor": 0
      },
      "text/plain": [
       "  0%|          | 0/142 [00:00<?, ?ba/s]"
      ]
     },
     "metadata": {},
     "output_type": "display_data"
    }
   ],
   "source": [
    "\n",
    "model_ckpt = 'baseline/baseline-512-20-nlpaueb/legal-bert-base-uncased/checkpoint-34000/'\n",
    "\n",
    "tokenizer = AutoTokenizer.from_pretrained(model_ckpt)\n",
    "\n",
    "def tokenize_and_encode_in(examples):\n",
    "    return tokenizer(examples['input'], max_length=512, truncation=True, padding=True)\n",
    "\n",
    "cols = train_enc.column_names\n",
    "print(cols)\n",
    "cols.remove(\"labels\")\n",
    "train_enc = train_enc.map(tokenize_and_encode_in, batched=True, remove_columns=cols)"
   ]
  },
  {
   "cell_type": "code",
   "execution_count": 6,
   "id": "9a767a97",
   "metadata": {},
   "outputs": [
    {
     "data": {
      "text/plain": [
       "================================================================================\n",
       "Layer (type:depth-idx)                                  Param #\n",
       "================================================================================\n",
       "BertForSequenceClassification                           --\n",
       "├─BertModel: 1-1                                        --\n",
       "│    └─BertEmbeddings: 2-1                              --\n",
       "│    │    └─Embedding: 3-1                              23,440,896\n",
       "│    │    └─Embedding: 3-2                              393,216\n",
       "│    │    └─Embedding: 3-3                              1,536\n",
       "│    │    └─LayerNorm: 3-4                              1,536\n",
       "│    │    └─Dropout: 3-5                                --\n",
       "│    └─BertEncoder: 2-2                                 --\n",
       "│    │    └─ModuleList: 3-6                             85,054,464\n",
       "│    └─BertPooler: 2-3                                  --\n",
       "│    │    └─Linear: 3-7                                 590,592\n",
       "│    │    └─Tanh: 3-8                                   --\n",
       "├─Dropout: 1-2                                          --\n",
       "├─Linear: 1-3                                           15,380\n",
       "================================================================================\n",
       "Total params: 109,497,620\n",
       "Trainable params: 109,497,620\n",
       "Non-trainable params: 0\n",
       "================================================================================"
      ]
     },
     "execution_count": 6,
     "metadata": {},
     "output_type": "execute_result"
    }
   ],
   "source": [
    "from transformers import AutoModel,AutoModelForSequenceClassification, AdamW, get_linear_schedule_with_warmup\n",
    "from torchinfo import summary\n",
    "device = 'cuda'\n",
    "model = AutoModelForSequenceClassification.from_pretrained(model_ckpt).to(device)\n",
    "\n",
    "#out = model(sample, )\n",
    "summary(model)"
   ]
  },
  {
   "cell_type": "code",
   "execution_count": 7,
   "id": "41d947ca",
   "metadata": {},
   "outputs": [
    {
     "name": "stdout",
     "output_type": "stream",
     "text": [
      "Defaulting to user installation because normal site-packages is not writeable\n",
      "Requirement already satisfied: matplotlib in /home/14cfl/.local/lib/python3.6/site-packages (3.3.4)\n",
      "Requirement already satisfied: numpy>=1.15 in /home/14cfl/.local/lib/python3.6/site-packages (from matplotlib) (1.19.5)\n",
      "Requirement already satisfied: python-dateutil>=2.1 in /home/14cfl/.local/lib/python3.6/site-packages (from matplotlib) (2.8.2)\n",
      "Requirement already satisfied: pillow>=6.2.0 in /home/14cfl/.local/lib/python3.6/site-packages (from matplotlib) (8.4.0)\n",
      "Requirement already satisfied: kiwisolver>=1.0.1 in /home/14cfl/.local/lib/python3.6/site-packages (from matplotlib) (1.3.1)\n",
      "Requirement already satisfied: pyparsing!=2.0.4,!=2.1.2,!=2.1.6,>=2.0.3 in /home/14cfl/.local/lib/python3.6/site-packages (from matplotlib) (3.0.9)\n",
      "Requirement already satisfied: cycler>=0.10 in /home/14cfl/.local/lib/python3.6/site-packages (from matplotlib) (0.11.0)\n",
      "Requirement already satisfied: six>=1.5 in /home/14cfl/.local/lib/python3.6/site-packages (from python-dateutil>=2.1->matplotlib) (1.16.0)\n",
      "Note: you may need to restart the kernel to use updated packages.\n"
     ]
    }
   ],
   "source": [
    "pip install matplotlib"
   ]
  },
  {
   "cell_type": "code",
   "execution_count": 8,
   "id": "8f59a201",
   "metadata": {},
   "outputs": [
    {
     "name": "stderr",
     "output_type": "stream",
     "text": [
      "/home/14cfl/.local/lib/python3.6/site-packages/numba/core/errors.py:154: UserWarning: Insufficiently recent colorama version found. Numba requires colorama >= 0.3.9\n",
      "  warnings.warn(msg)\n"
     ]
    }
   ],
   "source": [
    "import umap\n",
    "\n",
    "from sklearn.manifold import TSNE\n",
    "import matplotlib.pyplot as plt\n",
    "\n",
    "dim_reduc = umap.UMAP(random_state=10, metric='euclidean')\n",
    "\n",
    "def plot_umap(normalized_df, colour, name, prototypes=None, definitions=None):\n",
    "    standard_embedding = dim_reduc.fit_transform(normalized_df)\n",
    "    plt.scatter(standard_embedding[:, 0], standard_embedding[:, 1], c=colour, cmap='YlGnBu', s=1)\n",
    "    \n",
    "    if prototypes is not None:\n",
    "        prot_embedding = dim_reduc.transform(prototypes)\n",
    "\n",
    "        plt.scatter(prot_embedding[:, 0], prot_embedding[:, 1], color='r', s=5)\n",
    "    \n",
    "    if definitions is not None:\n",
    "        def_embedding = dim_reduc.transform(definitions)\n",
    "        plt.scatter(def_embedding[:, 0], def_embedding[:, 1], color='m', s=5)\n",
    "    \n",
    "    plt.savefig(name, dpi=200, bb_inches='tight')\n",
    "    plt.show()\n",
    "\n",
    "def plot_tsne(normalized_df, colour):\n",
    "    standard_embedding = TSNE(n_components=2, perplexity=8, learning_rate='auto',init='random').fit_transform(normalized_df)\n",
    "    plt.scatter(standard_embedding[:, 0], standard_embedding[:, 1], c=colour, s=1, cmap='bwr')\n"
   ]
  },
  {
   "cell_type": "code",
   "execution_count": 9,
   "id": "7d5aa692",
   "metadata": {},
   "outputs": [],
   "source": [
    "dl = torch.utils.data.DataLoader(train_enc, batch_size=8)"
   ]
  },
  {
   "cell_type": "code",
   "execution_count": 10,
   "id": "25df74c7",
   "metadata": {},
   "outputs": [
    {
     "data": {
      "application/vnd.jupyter.widget-view+json": {
       "model_id": "a4b8b3bcf8f84c66940cd0c4cd725207",
       "version_major": 2,
       "version_minor": 0
      },
      "text/plain": [
       "obtaining hidden states:   0%|          | 0/17655 [00:00<?, ?it/s]"
      ]
     },
     "metadata": {},
     "output_type": "display_data"
    },
    {
     "name": "stdout",
     "output_type": "stream",
     "text": [
      "plotting data points\n"
     ]
    }
   ],
   "source": [
    "# print(model.num_labels, model.device)\n",
    "device = model.device\n",
    "#if state.epoch >= 6 and state.epoch % 5 == 0:\n",
    "model.eval()\n",
    "x = []\n",
    "samples = [[] for i in range(label_len)]\n",
    "# p_per_class = int(/label_len)\n",
    "\n",
    "label = []\n",
    "\n",
    "with torch.no_grad():\n",
    "    for data in tqdm(dl, desc=\"obtaining hidden states\"):\n",
    "        # encoding data to hidden state - dim should be (N, D) - N batch size, D hidden vector dim\n",
    "        inp = torch.t(torch.stack(data['input_ids']))\n",
    "        mask = torch.t(torch.stack(data['attention_mask']))\n",
    "#         print(inp[:,:512].shape, mask.shape)\n",
    "        labels = torch.t(torch.stack(data.pop(\"labels\")))\n",
    "        outputs = model(input_ids=inp.to(device), attention_mask=mask.to(device))\n",
    "#         print(dir(outputs))\n",
    "        logits = outputs.logits.cpu()\n",
    "        #print(logits.shape)\n",
    "        # reversing one-hot encoding of the labels\n",
    "        labs = (labels == 1).nonzero()\n",
    "\n",
    "        #print(labs)\n",
    "        labels = {}\n",
    "        for l in labs:\n",
    "            if l[0].item() in labels:\n",
    "                labels[l[0].item()].append(l[1].item())\n",
    "            else:\n",
    "                labels[l[0].item()] = [l[1].item()]\n",
    "        #print(labels)\n",
    "        # adding each hidden state to its respective class' list\n",
    "        for k, v in labels.items():\n",
    "            for c in v:\n",
    "                #print(c)\n",
    "                x.append(logits[k, :])\n",
    "                label.append(c)\n",
    "                samples[c].append(inp[k,:])\n",
    "    print('plotting data points')\n",
    "    #print([len(x) for x in x_per_class])\n",
    "#     # projecting prototypes for each class\n",
    "#     print('prototypes:')\n",
    "#     for i in range(model.prototype_sample.data.size(0)):\n",
    "#         for j in range(model.prototype_sample.data.size(1)):\n",
    "#             with open(f'prototypes-red2-20-defs/_{i}_{j}.txt', 'w') as f:\n",
    "#                 text = tokenizer.decode(model.prototype_sample.data[i,j,:].int())\n",
    "#                 print(text)\n",
    "#                 f.write(text)\n",
    "\n",
    "    x = np.stack(x)\n",
    "    labels = np.stack(label)\n",
    "    \n",
    "# #     prots = model.prototype_vectors.cpu()\n",
    "#     defs = model.roberta(model.definition_tokens).last_hidden_state[:,0,:].cpu()\n"
   ]
  },
  {
   "cell_type": "code",
   "execution_count": 11,
   "id": "69af537d",
   "metadata": {},
   "outputs": [
    {
     "name": "stderr",
     "output_type": "stream",
     "text": [
      "/home/14cfl/.local/lib/python3.6/site-packages/ipykernel_launcher.py:21: MatplotlibDeprecationWarning: savefig() got unexpected keyword argument \"bb_inches\" which is no longer supported as of 3.3 and will become an error two minor releases later\n"
     ]
    },
    {
     "data": {
      "image/png": "[encoded data removed]",
      "text/plain": [
       "<Figure size 432x288 with 1 Axes>"
      ]
     },
     "metadata": {
      "needs_background": "light"
     },
     "output_type": "display_data"
    }
   ],
   "source": [
    "\n",
    "plot_umap(x, labels, 'legalbert-finetuned-20.pdf')"
   ]
  },
  {
   "cell_type": "code",
   "execution_count": null,
   "id": "6c48c425",
   "metadata": {},
   "outputs": [],
   "source": []
  }
 ],
 "metadata": {
  "kernelspec": {
   "display_name": "Python 3",
   "language": "python",
   "name": "python3"
  },
  "language_info": {
   "codemirror_mode": {
    "name": "ipython",
    "version": 3
   },
   "file_extension": ".py",
   "mimetype": "text/x-python",
   "name": "python",
   "nbconvert_exporter": "python",
   "pygments_lexer": "ipython3",
   "version": "3.6.9"
  }
 },
 "nbformat": 4,
 "nbformat_minor": 5
}
